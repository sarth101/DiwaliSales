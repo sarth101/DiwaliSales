{
  "cells": [
    {
      "cell_type": "markdown",
      "metadata": {
        "id": "view-in-github",
        "colab_type": "text"
      },
      "source": [
        "<a href=\"https://colab.research.google.com/github/sarth101/DiwaliSales/blob/main/diwalisales.ipynb\" target=\"_parent\"><img src=\"https://colab.research.google.com/assets/colab-badge.svg\" alt=\"Open In Colab\"/></a>"
      ]
    },
    {
      "cell_type": "code",
      "execution_count": null,
      "metadata": {
        "id": "qj5vcKiJjPy-"
      },
      "outputs": [],
      "source": [
        "import numpy as np\n",
        "import seaborn as sns\n",
        "import matplotlib.pyplot as plt\n",
        "import pandas as pd"
      ]
    },
    {
      "cell_type": "code",
      "execution_count": null,
      "metadata": {
        "id": "-5wy1Jm4j5xV"
      },
      "outputs": [],
      "source": [
        "df = pd.read_csv(\"Diwali Sales Data.csv\",encoding=\"latin-1\")"
      ]
    },
    {
      "cell_type": "code",
      "execution_count": null,
      "metadata": {
        "id": "G5NCaGbjkfj9"
      },
      "outputs": [],
      "source": [
        "df.head()"
      ]
    },
    {
      "cell_type": "code",
      "execution_count": null,
      "metadata": {
        "id": "k-6yumxIkqBp"
      },
      "outputs": [],
      "source": [
        "df = df.drop([\"Status\",\"unnamed1\"],axis=1)\n",
        "df = df.dropna(subset = [\"Amount\"])"
      ]
    },
    {
      "cell_type": "code",
      "execution_count": null,
      "metadata": {
        "id": "dfiqCOR2laUs"
      },
      "outputs": [],
      "source": [
        "print(df.describe())\n",
        "print(df.info())"
      ]
    },
    {
      "cell_type": "code",
      "execution_count": null,
      "metadata": {
        "id": "e5xqpO0rmULH"
      },
      "outputs": [],
      "source": [
        "df.head(10)"
      ]
    },
    {
      "cell_type": "code",
      "execution_count": null,
      "metadata": {
        "id": "1-RB_GOkpkTj"
      },
      "outputs": [],
      "source": [
        "gender_dis = sns.countplot(df[\"Gender\"])\n",
        "for x in gender_dis.containers:\n",
        "    gender_dis.bar_label(x)\n",
        "plt.plot()"
      ]
    },
    {
      "cell_type": "code",
      "execution_count": null,
      "metadata": {
        "id": "Z5thQWQ7nLN2"
      },
      "outputs": [],
      "source": [
        "sho_mewo = df.groupby(\"Gender\")[\"Orders\"].sum()\n",
        "plt.bar(sho_mewo.index,sho_mewo.values)"
      ]
    },
    {
      "cell_type": "markdown",
      "source": [
        "In diwali the womens do maximum shoppong than men"
      ],
      "metadata": {
        "id": "T6CG4SKGo45f"
      }
    },
    {
      "cell_type": "code",
      "source": [
        "Amount_gender = df.groupby(\"Gender\")[\"Amount\"].sum()\n",
        "plt.bar(Amount_gender.index,Amount_gender.values,)\n",
        "plt.plot()"
      ],
      "metadata": {
        "id": "fwQ6QITaovSE"
      },
      "execution_count": null,
      "outputs": []
    },
    {
      "cell_type": "markdown",
      "source": [
        "women spend more money than men during diwali festivals"
      ],
      "metadata": {
        "id": "agtHK2qisB51"
      }
    },
    {
      "cell_type": "code",
      "source": [
        "\n",
        "state_amount = df.groupby(\"State\")[\"Amount\"].sum()\n",
        "state_amount = state_amount.sort_values(ascending=False).head(10)\n",
        "plt.figure(figsize=(17, 5))\n",
        "x = sns.barplot(x = state_amount.index,y = state_amount.values)\n",
        "for i in x.containers:\n",
        "    x.bar_label(i)"
      ],
      "metadata": {
        "id": "TB7JQYJxsHW1"
      },
      "execution_count": null,
      "outputs": []
    },
    {
      "cell_type": "code",
      "source": [
        "state_order = df.groupby(\"State\")[\"Orders\"].sum()\n",
        "state_order = state_order.sort_values(ascending=False).head(10)\n",
        "plt.figure(figsize=(17, 5))\n",
        "x = sns.barplot(x= state_order.index,y = state_order.values)\n",
        "for i in x.containers:\n",
        "    x.bar_label(i)\n",
        "plt.plot()"
      ],
      "metadata": {
        "id": "KxG9L9NkvlAG"
      },
      "execution_count": null,
      "outputs": []
    },
    {
      "cell_type": "markdown",
      "source": [
        "There is maximum order and expenses done by utterpradesh , Maharashtra, karnataka, delhi"
      ],
      "metadata": {
        "id": "jW3tS0u90-mI"
      }
    },
    {
      "cell_type": "code",
      "source": [
        "sns.countplot(y='Product_Category', data=df, order=df['Product_Category'].value_counts().index)"
      ],
      "metadata": {
        "id": "jMVonVJj6qGw"
      },
      "execution_count": null,
      "outputs": []
    },
    {
      "cell_type": "code",
      "source": [
        "order_category = df.groupby(\"Product_Category\")[\"Orders\"].sum()\n",
        "order_category = order_category.sort_values(ascending = False)\n",
        "sns.barplot(y=order_category.index,x = order_category.values)"
      ],
      "metadata": {
        "id": "e9cqgjB9BkvV"
      },
      "execution_count": null,
      "outputs": []
    },
    {
      "cell_type": "code",
      "source": [
        "category_amount = df.groupby(\"Product_Category\")[\"Amount\"].sum()\n",
        "category_amount = category_amount.sort_values(ascending = False)\n",
        "sns.barplot(y=category_amount.index,x=category_amount.values)"
      ],
      "metadata": {
        "id": "h79azH7XC5Q4"
      },
      "execution_count": null,
      "outputs": []
    },
    {
      "cell_type": "markdown",
      "source": [
        "The maximum order thing is clothes but most amount spended on food"
      ],
      "metadata": {
        "id": "y6_PjYc-D02L"
      }
    },
    {
      "cell_type": "code",
      "source": [
        "age_group_amount = df.groupby(\"Age Group\")[\"Amount\"].sum()\n",
        "sns.barplot(x = age_group_amount.index,y=age_group_amount.values)"
      ],
      "metadata": {
        "id": "uByimEw_EI1s"
      },
      "execution_count": null,
      "outputs": []
    },
    {
      "cell_type": "markdown",
      "source": [
        "The maximum Amount is spend by 26-35 age group"
      ],
      "metadata": {
        "id": "K5BGPcqKO8fs"
      }
    },
    {
      "cell_type": "code",
      "source": [
        "age_group_amount = df.groupby([\"Age Group\",\"Gender\"])[\"Amount\"].sum()\n",
        "age_group_amount = age_group_amount.reset_index()\n",
        "sns.barplot(x = \"Age Group\", y=\"Amount\", hue=\"Gender\", data=age_group_amount)"
      ],
      "metadata": {
        "id": "W7ctrFrIQL75"
      },
      "execution_count": null,
      "outputs": []
    },
    {
      "cell_type": "markdown",
      "source": [
        "The maximum expenditure done by 26-35 age group womens"
      ],
      "metadata": {
        "id": "hTF2oZuIVWAu"
      }
    },
    {
      "cell_type": "code",
      "source": [
        "occupation_amount = df.groupby([\"Occupation\",\"Gender\"])[\"Amount\"].sum()\n",
        "occupation_amount = occupation_amount.reset_index()\n",
        "x = sns.barplot(y = \"Occupation\", x=\"Amount\", hue=\"Gender\", data=occupation_amount)\n",
        "#for i in x.containers:\n",
        "#    x.bar_label(i)"
      ],
      "metadata": {
        "id": "_cRV-75zVj3h"
      },
      "execution_count": null,
      "outputs": []
    },
    {
      "cell_type": "markdown",
      "source": [
        "There is maximum shopping done by IT Sector women's"
      ],
      "metadata": {
        "id": "yy-am9YWWkzs"
      }
    }
  ],
  "metadata": {
    "colab": {
      "provenance": [],
      "authorship_tag": "ABX9TyOw7IRjAda8OTdLD8heC+p5",
      "include_colab_link": true
    },
    "kernelspec": {
      "display_name": "Python 3",
      "name": "python3"
    },
    "language_info": {
      "name": "python"
    }
  },
  "nbformat": 4,
  "nbformat_minor": 0
}